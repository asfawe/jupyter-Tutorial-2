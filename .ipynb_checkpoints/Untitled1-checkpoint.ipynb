{
 "cells": [
  {
   "cell_type": "markdown",
   "metadata": {},
   "source": [
    "## 함수\n",
    "1. 코드를 재사용 할 수 있으며,실수를 줄일 수 있다.\n",
    "2. 코드의 구조를 한 눈에 파악하기 쉽다."
   ]
  },
  {
   "cell_type": "code",
   "execution_count": 11,
   "metadata": {},
   "outputs": [],
   "source": [
    "def 부지매입():\n",
    "    pass\n",
    "def 설계도면작성():\n",
    "    pass\n",
    "def 인력모집():\n",
    "    pass\n",
    "def 벽돌쌓기():\n",
    "    pass\n",
    "def 지붕올리기():\n",
    "    pass\n",
    "\n",
    "부지매입()\n",
    "설계도면작성()\n",
    "인력모집()\n",
    "벽돌쌓기()\n",
    "지붕올리기()"
   ]
  },
  {
   "cell_type": "code",
   "execution_count": 52,
   "metadata": {},
   "outputs": [
    {
     "data": {
      "text/plain": [
       "314.0"
      ]
     },
     "execution_count": 52,
     "metadata": {},
     "output_type": "execute_result"
    }
   ],
   "source": [
    "def 원의넓이(반지름):\n",
    "    result = 반지름 ** 2 * 3.14\n",
    "    return result #가죽을 남긴다\n",
    "원의넓이(10)"
   ]
  },
  {
   "cell_type": "code",
   "execution_count": 6,
   "metadata": {},
   "outputs": [
    {
     "name": "stdout",
     "output_type": "stream",
     "text": [
      "314.0\n"
     ]
    }
   ],
   "source": [
    "'''\n",
    "def : 함수를 선언하는 키워드\n",
    "원의넓이 : 함수의 이름\n",
    "return : 함수의 종료, 결과를 변환\n",
    "10 : 아규먼트\n",
    "원의넓이(10) : 함수를 호출\n",
    "'''\n",
    "\n",
    "def 원의넓이(반지름):\n",
    "    result = 1\n",
    "    result = 반지름 ** 2 * 3.14\n",
    "    return result\n",
    "    \n",
    "\n",
    "print(원의넓이(10))"
   ]
  },
  {
   "cell_type": "code",
   "execution_count": null,
   "metadata": {},
   "outputs": [],
   "source": [
    "def 원의넓이(반지름):\n",
    "    result = str(반지름 ** 2) + 'ㅠ'\n",
    "    return result\n",
    "\n",
    "print(원의넓이(10))"
   ]
  },
  {
   "cell_type": "code",
   "execution_count": 53,
   "metadata": {},
   "outputs": [
    {
     "name": "stdout",
     "output_type": "stream",
     "text": [
      "2\n"
     ]
    }
   ],
   "source": []
  },
  {
   "cell_type": "code",
   "execution_count": null,
   "metadata": {},
   "outputs": [],
   "source": []
  },
  {
   "cell_type": "code",
   "execution_count": null,
   "metadata": {},
   "outputs": [],
   "source": []
  },
  {
   "cell_type": "code",
   "execution_count": null,
   "metadata": {},
   "outputs": [],
   "source": []
  },
  {
   "cell_type": "code",
   "execution_count": null,
   "metadata": {},
   "outputs": [],
   "source": []
  },
  {
   "cell_type": "code",
   "execution_count": null,
   "metadata": {},
   "outputs": [],
   "source": []
  },
  {
   "cell_type": "code",
   "execution_count": null,
   "metadata": {},
   "outputs": [],
   "source": []
  },
  {
   "cell_type": "code",
   "execution_count": null,
   "metadata": {},
   "outputs": [],
   "source": []
  }
 ],
 "metadata": {
  "kernelspec": {
   "display_name": "Python 3",
   "language": "python",
   "name": "python3"
  },
  "language_info": {
   "codemirror_mode": {
    "name": "ipython",
    "version": 3
   },
   "file_extension": ".py",
   "mimetype": "text/x-python",
   "name": "python",
   "nbconvert_exporter": "python",
   "pygments_lexer": "ipython3",
   "version": "3.8.5"
  }
 },
 "nbformat": 4,
 "nbformat_minor": 4
}
